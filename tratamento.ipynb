{
 "cells": [
  {
   "cell_type": "code",
   "execution_count": 32,
   "metadata": {},
   "outputs": [],
   "source": [
    "import pandas as pd\n",
    "\n",
    "df = pd.read_excel('despesas.xlsx')\n",
    "df_orcamento = pd.read_excel('orcamentos.xlsx')"
   ]
  },
  {
   "cell_type": "code",
   "execution_count": 33,
   "metadata": {},
   "outputs": [],
   "source": [
    "\n",
    "\n",
    "df['data'] = pd.to_datetime(df['data'], unit='ms')\n",
    "\n",
    "\n",
    "df_orcamento['data'] = pd.to_datetime(\n",
    "    df_orcamento.rename(columns={'ano': 'year', 'mes': 'month'})\n",
    "    .assign(day=1)[['year', 'month', 'day']]\n",
    ")\n",
    "\n",
    "df_orcamento.drop(['mes', 'ano'], axis=1, inplace=True)\n",
    "\n",
    "\n"
   ]
  },
  {
   "cell_type": "code",
   "execution_count": 34,
   "metadata": {},
   "outputs": [],
   "source": [
    "df.dropna(subset=['valor', 'fornecedor'], inplace=True)\n",
    "\n",
    "df.drop('id_despesa', axis=1, inplace=True)\n",
    "\n",
    "df_orcamento['tipo'] = \"Orçamento\"\n",
    "df_orcamento['fornecedor'] = \"Orçamento\""
   ]
  },
  {
   "cell_type": "code",
   "execution_count": 35,
   "metadata": {},
   "outputs": [
    {
     "name": "stdout",
     "output_type": "stream",
     "text": [
      "         setor       data       tipo fornecedor          valor\n",
      "0     Produção 2024-01-01  Orçamento  Orçamento   15524.519752\n",
      "1     Produção 2024-02-01  Orçamento  Orçamento   45075.424647\n",
      "2     Produção 2024-03-01  Orçamento  Orçamento   44155.593318\n",
      "3     Produção 2024-04-01  Orçamento  Orçamento   59965.364892\n",
      "4     Produção 2024-05-01  Orçamento  Orçamento   15988.451455\n",
      "..         ...        ...        ...        ...            ...\n",
      "115  Comercial 2025-08-01  Orçamento  Orçamento   63496.657091\n",
      "116  Comercial 2025-09-01  Orçamento  Orçamento  270703.309654\n",
      "117  Comercial 2025-10-01  Orçamento  Orçamento   43491.557474\n",
      "118  Comercial 2025-11-01  Orçamento  Orçamento   92876.931597\n",
      "119  Comercial 2025-12-01  Orçamento  Orçamento    5623.751964\n",
      "\n",
      "[120 rows x 5 columns]\n"
     ]
    }
   ],
   "source": [
    "df['valor'] = df['valor'].astype(float)\n",
    "\n",
    "df_orcamento['valor'] = df_orcamento['valor_realizado'].astype(float)\n",
    "\n",
    "df_orcamento.drop(['valor_previsto', 'valor_realizado'], axis=1, inplace=True)\n",
    "\n",
    "print(df_orcamento)\n",
    "\n",
    "df = pd.concat([df, df_orcamento], ignore_index=True)"
   ]
  },
  {
   "cell_type": "code",
   "execution_count": 36,
   "metadata": {},
   "outputs": [],
   "source": [
    "df.to_excel('despesas_tratadas.xlsx', index=False)"
   ]
  }
 ],
 "metadata": {
  "kernelspec": {
   "display_name": "Python 3",
   "language": "python",
   "name": "python3"
  },
  "language_info": {
   "codemirror_mode": {
    "name": "ipython",
    "version": 3
   },
   "file_extension": ".py",
   "mimetype": "text/x-python",
   "name": "python",
   "nbconvert_exporter": "python",
   "pygments_lexer": "ipython3",
   "version": "3.12.1"
  }
 },
 "nbformat": 4,
 "nbformat_minor": 2
}
